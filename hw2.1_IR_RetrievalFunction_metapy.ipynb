{
 "cells": [
  {
   "cell_type": "code",
   "execution_count": null,
   "metadata": {
    "colab": {},
    "colab_type": "code",
    "id": "GnTyOlg05qs2"
   },
   "outputs": [],
   "source": [
    "UNIQUENAME = 'alnewma'"
   ]
  },
  {
   "cell_type": "code",
   "execution_count": null,
   "metadata": {
    "colab": {},
    "colab_type": "code",
    "id": "JAqCT74wRJ1-"
   },
   "outputs": [],
   "source": [
    "from __future__ import division "
   ]
  },
  {
   "cell_type": "markdown",
   "metadata": {
    "colab_type": "text",
    "id": "w0ieeEVXScqP"
   },
   "source": [
    "This notebook is used for SI 650 Information Retrieval class. You should implement retrieval functions and report corresponding results in your submission on Canvas. \n"
   ]
  },
  {
   "cell_type": "code",
   "execution_count": 7,
   "metadata": {
    "colab": {
     "base_uri": "https://localhost:8080/",
     "height": 34
    },
    "colab_type": "code",
    "id": "EVNhGYbO5qs8",
    "outputId": "b8597c94-8d77-4f70-9854-9867825e31d6"
   },
   "outputs": [
    {
     "name": "stdout",
     "output_type": "stream",
     "text": [
      "Requirement already up-to-date: pip in /usr/local/lib/python3.6/dist-packages (18.1)\n"
     ]
    }
   ],
   "source": [
    "!pip install --upgrade pip"
   ]
  },
  {
   "cell_type": "code",
   "execution_count": 8,
   "metadata": {
    "colab": {
     "base_uri": "https://localhost:8080/",
     "height": 34
    },
    "colab_type": "code",
    "id": "56RZ6Ya_SYng",
    "outputId": "c1834635-726e-453f-c9c8-6b56c796929e"
   },
   "outputs": [
    {
     "name": "stdout",
     "output_type": "stream",
     "text": [
      "Requirement already satisfied: metapy in /usr/local/lib/python3.6/dist-packages (0.2.13)\n"
     ]
    }
   ],
   "source": [
    "# install metapy, it may take several minutes.\n",
    "!pip install metapy\n",
    "import metapy"
   ]
  },
  {
   "cell_type": "code",
   "execution_count": 9,
   "metadata": {
    "colab": {
     "base_uri": "https://localhost:8080/",
     "height": 153
    },
    "colab_type": "code",
    "id": "ey5kOfZiSd2_",
    "outputId": "d1fcc5b0-e346-4820-fc3d-bc538cf83dbb"
   },
   "outputs": [
    {
     "name": "stdout",
     "output_type": "stream",
     "text": [
      "File ‘lemur-stopwords.txt’ already there; not retrieving.\n",
      "\n",
      "--2018-10-11 18:02:18--  https://meta-toolkit.org/data/2016-11-10/cranfield.tar.gz\n",
      "Resolving meta-toolkit.org (meta-toolkit.org)... 50.116.41.177, 2600:3c02::f03c:91ff:feae:b777\n",
      "Connecting to meta-toolkit.org (meta-toolkit.org)|50.116.41.177|:443... connected.\n",
      "HTTP request sent, awaiting response... 304 Not Modified\n",
      "File ‘cranfield.tar.gz’ not modified on server. Omitting download.\n",
      "\n"
     ]
    }
   ],
   "source": [
    "# Reading Data\n",
    "!wget -nc https://raw.githubusercontent.com/meta-toolkit/meta/master/data/lemur-stopwords.txt\n",
    "!wget -N https://meta-toolkit.org/data/2016-11-10/cranfield.tar.gz\n",
    "!tar xf cranfield.tar.gz"
   ]
  },
  {
   "cell_type": "code",
   "execution_count": null,
   "metadata": {
    "colab": {},
    "colab_type": "code",
    "id": "orgxVgu0TMFF"
   },
   "outputs": [],
   "source": [
    "# Setting dataset\n",
    "with open('cranfield/tutorial.toml', 'w') as f:\n",
    "    f.write('type = \"line-corpus\"\\n')\n",
    "    f.write('store-full-text = true\\n')\n",
    "\n",
    "config = \"\"\"prefix = \".\" # tells MeTA where to search for datasets\n",
    "\n",
    "dataset = \"cranfield\" # a subfolder under the prefix directory\n",
    "corpus = \"tutorial.toml\" # a configuration file for the corpus specifying its format & additional args\n",
    "\n",
    "index = \"cranfield-idx\" # subfolder of the current working directory to place index files\n",
    "\n",
    "query-judgements = \"cranfield/cranfield-qrels.txt\" # file containing the relevance judgments for this dataset\n",
    "\n",
    "stop-words = \"lemur-stopwords.txt\"\n",
    "\n",
    "[[analyzers]]\n",
    "method = \"ngram-word\"\n",
    "ngram = 1\n",
    "filter = \"default-unigram-chain\"\n",
    "\"\"\"\n",
    "with open('cranfield-config.toml', 'w') as f:\n",
    "    f.write(config)"
   ]
  },
  {
   "cell_type": "markdown",
   "metadata": {
    "colab_type": "text",
    "id": "oFEZSvf6Tk1j"
   },
   "source": [
    "# **1. Build Retrieval Function**"
   ]
  },
  {
   "cell_type": "code",
   "execution_count": null,
   "metadata": {
    "colab": {},
    "colab_type": "code",
    "id": "3xWGLrMITjbA"
   },
   "outputs": [],
   "source": [
    "# Make sure you have installed metapy package and downloaded the data before running the following code"
   ]
  },
  {
   "cell_type": "code",
   "execution_count": null,
   "metadata": {
    "colab": {},
    "colab_type": "code",
    "id": "fRtZ2uKbUBM9"
   },
   "outputs": [],
   "source": [
    "# Build the index for dataset.\n",
    "inv_idx = metapy.index.make_inverted_index('cranfield-config.toml')"
   ]
  },
  {
   "cell_type": "code",
   "execution_count": null,
   "metadata": {
    "colab": {},
    "colab_type": "code",
    "id": "tS651YFIDtbJ"
   },
   "outputs": [],
   "source": [
    "# inv_idx.doc_freq?print(inv_idx)"
   ]
  },
  {
   "cell_type": "code",
   "execution_count": null,
   "metadata": {
    "colab": {},
    "colab_type": "code",
    "id": "_XvviZdsRuyU"
   },
   "outputs": [],
   "source": []
  },
  {
   "cell_type": "code",
   "execution_count": null,
   "metadata": {
    "colab": {},
    "colab_type": "code",
    "id": "Mte5wKCrUHBN"
   },
   "outputs": [],
   "source": [
    "# Creating own ranking function\n",
    "class SimpleRanker(metapy.index.RankingFunction):                                            \n",
    "                          \n",
    "    # https://meta-toolkit.org/doxygen/structmeta_1_1index_1_1score__data.html \n",
    "    \n",
    "    def __init__(self, some_param=1.0):                                             \n",
    "        # adding parameter that we want the ranker to have, so we need to add it before invoking the super class\n",
    "        self.param = some_param\n",
    "        # calling the initializer on the ranking function class (the super class)\n",
    "        super(SimpleRanker, self).__init__()                                        \n",
    "    \n",
    "    # where sd=score data object\n",
    "    # score_one = scoring for one term/word\n",
    "    def score_one(self, sd):\n",
    "        # sd.doc_term_count = num times a term appears in the current doc\n",
    "        # sd.doc_unique_terms = num unique terms in the doc\n",
    "        # sd.doc_size=size of the current document\n",
    "        return (self.param + sd.doc_term_count) / (self.param * sd.doc_unique_terms + sd.doc_size)"
   ]
  },
  {
   "cell_type": "markdown",
   "metadata": {
    "colab_type": "text",
    "id": "dKwhuSRAmqCQ"
   },
   "source": [
    "**Add your answer in the cells below:**"
   ]
  },
  {
   "cell_type": "code",
   "execution_count": null,
   "metadata": {
    "colab": {},
    "colab_type": "code",
    "id": "Uzo4YK2KUatY"
   },
   "outputs": [],
   "source": [
    "import math\n",
    "import numpy as np\n",
    "\n",
    "class Pivoted(metapy.index.RankingFunction):                                                                                                                    \n",
    "    def __init__(self, s = 0.1):                                             \n",
    "        self.s = s\n",
    "        # You *must* invoke the base class __init__() here!\n",
    "        super(Pivoted, self).__init__()                                        \n",
    "                                                                                 \n",
    "    def score_one(self, sd):\n",
    "        \"\"\"\n",
    "        You need to override this function to return a score for a single term.\n",
    "        \n",
    "        You may want to call some of the following variables when implementing your retrieval function:\n",
    "        \n",
    "        sd.avg_dl: average document length of the collection\n",
    "        sd.num_docs: total number of documents in the index\n",
    "        sd.total_terms: total number of terms in the index\n",
    "        sd.query_length: the total length of the current query (sum of all term weights)\n",
    "        sd.query_term_weight: query term count (or weight in case of feedback)\n",
    "        sd.doc_count: number of documents that a term t_id appears in\n",
    "        sd.corpus_term_count: number of times a term t_id appears in the collection\n",
    "        sd.doc_term_count: number of times the term appears in the current document\n",
    "        sd.doc_size: total number of terms in the current document\n",
    "        sd.doc_unique_terms: number of unique terms in the current document\n",
    "        \n",
    "        \"\"\"\n",
    "         \n",
    "        s = self.s \n",
    "        factor_one = np.log((sd.num_docs +1)/(sd.doc_count))\n",
    "        factor_two_numerator = (1+ np.log(1+np.log(sd.doc_term_count))) \n",
    "        factor_two_denominator = (1-s + s*(sd.doc_size/sd.avg_dl))\n",
    "        factor_three = sd.query_term_weight\n",
    "        \n",
    "        \n",
    "        #Fill your answers here\n",
    "\n",
    "        return factor_one * (factor_two_numerator/factor_two_denominator) * factor_three"
   ]
  },
  {
   "cell_type": "code",
   "execution_count": null,
   "metadata": {
    "colab": {},
    "colab_type": "code",
    "id": "yR4CPUHfcFJH"
   },
   "outputs": [],
   "source": [
    "import math\n",
    "class BM25(metapy.index.RankingFunction):                                            \n",
    "    \"\"\"                                                                          \n",
    "    Create a new ranking function in Python that can be used in MeTA.             \n",
    "    \"\"\"                                                                          \n",
    "    def __init__(self, k1 = 1.2, b = 0.75, k3 = 500):                                             \n",
    "        self.k1 = k1\n",
    "        self.b = b\n",
    "        self.k3 = k3\n",
    "        # You *must* invoke the base class __init__() here!\n",
    "        super(BM25, self).__init__()                                        \n",
    "                                                                                 \n",
    "    def score_one(self, sd):\n",
    "        \"\"\"\n",
    "        You need to override this function to return a score for a single term.\n",
    "        \n",
    "        You may want to call some of the following variables when implementing your retrieval function:\n",
    "        \n",
    "        sd.avg_dl: average document length of the collection\n",
    "        sd.num_docs: total number of documents in the index\n",
    "        sd.total_terms: total number of terms in the index\n",
    "        sd.query_length: the total length of the current query (sum of all term weights)\n",
    "        sd.query_term_weight: query term count (or weight in case of feedback)\n",
    "        sd.doc_count: number of documents that a term t_id appears in\n",
    "        sd.corpus_term_count: number of times a term t_id appears in the collection\n",
    "        sd.doc_term_count: number of times the term appears in the current document\n",
    "        sd.doc_size: total number of terms in the current document\n",
    "        sd.doc_unique_terms: number of unique terms in the current document\n",
    "        \n",
    "        \"\"\"\n",
    "        k1 = self.k1\n",
    "        b = self.b\n",
    "        k3 = self.k3\n",
    "        \n",
    "        factor_one_numerator = sd.num_docs - sd.doc_count + 0.5\n",
    "        factor_one_denominator = sd.doc_count + 0.5\n",
    "        factor_one = np.log(factor_one_numerator/factor_one_denominator)\n",
    "        \n",
    "        factor_two_numerator = (k1 + 1) * sd.doc_term_count\n",
    "        factor_two_denominator = (k1 * (1 - b + b *(sd.doc_size/sd.avg_dl))) + sd.doc_term_count\n",
    "        factor_two = factor_two_numerator/factor_two_denominator\n",
    "        \n",
    "        factor_three_numerator = (k3 + 1) * sd.query_term_weight\n",
    "        factor_three_denominator = (k3 + sd.query_term_weight)\n",
    "        factor_three = factor_three_numerator/factor_three_denominator\n",
    "        \n",
    "        #Fill your answer here\n",
    "        return factor_one * factor_two * factor_three"
   ]
  },
  {
   "cell_type": "code",
   "execution_count": null,
   "metadata": {
    "colab": {},
    "colab_type": "code",
    "id": "whAqYkdGUa00"
   },
   "outputs": [],
   "source": [
    "# We currently use the simple ranker here. Please change it to Pivoted Ranker after you implement it.\n",
    "\n",
    "# Change k1, k3, b, and s values within the function calls below: e.g. Pivoted(k1 = 3) <-- look into number ranges\n",
    "ranker = SimpleRanker()\n",
    "# ranker = Pivoted()   \n",
    "#ranker = BM25() "
   ]
  },
  {
   "cell_type": "markdown",
   "metadata": {
    "colab_type": "text",
    "id": "YOrwkoJVV5_y"
   },
   "source": [
    "# **2 Evaluate Retrieval Function**"
   ]
  },
  {
   "cell_type": "code",
   "execution_count": null,
   "metadata": {
    "colab": {},
    "colab_type": "code",
    "id": "Ixliy5BIV-Df"
   },
   "outputs": [],
   "source": [
    "ev = metapy.index.IREval('cranfield-config.toml')"
   ]
  },
  {
   "cell_type": "code",
   "execution_count": null,
   "metadata": {
    "colab": {},
    "colab_type": "code",
    "id": "D_11hRaw-Vj1"
   },
   "outputs": [],
   "source": [
    "# 9 parameter values for the Normalization and BM25 functions:\n",
    "range_lst = [0.1, 0.2, 0.3, 0.4, 0.5, 0.6, 0.7, 0.8, 0.9]"
   ]
  },
  {
   "cell_type": "code",
   "execution_count": 20,
   "metadata": {
    "colab": {
     "base_uri": "https://localhost:8080/",
     "height": 170
    },
    "colab_type": "code",
    "id": "6lCb5xVGWIN4",
    "outputId": "69e886ad-5956-4d7a-f66c-12a6d8c826e1"
   },
   "outputs": [
    {
     "name": "stdout",
     "output_type": "stream",
     "text": [
      "MAP: 0.2700253959532719\n",
      "MAP: 0.272310425752299\n",
      "MAP: 0.27477831490269583\n",
      "MAP: 0.2748158649449918\n",
      "MAP: 0.27437286425664936\n",
      "MAP: 0.2725080949818613\n",
      "MAP: 0.2699139019538289\n",
      "MAP: 0.2659148869707835\n",
      "MAP: 0.26082835340925714\n"
     ]
    }
   ],
   "source": [
    "# Evaluate top 30 search results for cranfield dataset\n",
    "def visualizations(p, lst):\n",
    "  ranker = Pivoted(p)\n",
    "  num_results = 30\n",
    "\n",
    "  precision_list = []\n",
    "  with open('cranfield/cranfield-queries.txt') as query_file:\n",
    "      for query_num, line in enumerate(query_file):\n",
    "          query = metapy.index.Document()\n",
    "          query.content(line.strip())\n",
    "          results = ranker.score(inv_idx, query, num_results)                            \n",
    "          avg_p = ev.avg_p(results, query_num + 1, num_results)\n",
    "          precision_list.append(ev.precision(results,query_num+1,num_results))\n",
    "          \n",
    "  # Print Ranking Performance\n",
    "  print (\"MAP:\", ev.map())\n",
    "  lst.append(ev.map())\n",
    "#   print (\"Precison@30\",sum(precision_list) / len(precision_list))\n",
    "  return\n",
    "\n",
    "# loop through list of parameters in Pivoted function\n",
    "map_results = [] # for each of the s values in range_lst\n",
    "for elem in range_lst:\n",
    "  visualizations(elem, map_results)\n"
   ]
  },
  {
   "cell_type": "code",
   "execution_count": null,
   "metadata": {
    "colab": {},
    "colab_type": "code",
    "id": "3RUJWlXcExLj"
   },
   "outputs": [],
   "source": [
    "# Plot the performance curve - use seaborn\n",
    "# Report the best performance of my function"
   ]
  },
  {
   "cell_type": "code",
   "execution_count": null,
   "metadata": {
    "colab": {},
    "colab_type": "code",
    "id": "zlY4ZlVjW2HH"
   },
   "outputs": [],
   "source": [
    "# Print Ranking Performance\n",
    "# print (\"MAP:\", ev.map())\n",
    "# print (\"Precison@30\",sum(precision_list) / len(precision_list))"
   ]
  },
  {
   "cell_type": "code",
   "execution_count": null,
   "metadata": {
    "colab": {},
    "colab_type": "code",
    "id": "6tASAgXjVp2n"
   },
   "outputs": [],
   "source": [
    "# Initial Results for each function\n",
    "\n",
    "# Simple Ranker output\n",
    "# MAP: 0.19017510256207787\n",
    "# Precison@30 0.09866666666666667\n",
    "\n",
    "# Pivoted Normalization output - did not change s value\n",
    "# MAP: 0.2700253959532719\n",
    "# Precison@30 0.11792592592592595\n",
    "\n",
    "# BM25 output - did not change k1, k3, or b values\n",
    "# MAP: 0.28023656742202474\n",
    "# Precison@30 0.12148148148148157"
   ]
  },
  {
   "cell_type": "code",
   "execution_count": 24,
   "metadata": {
    "colab": {
     "base_uri": "https://localhost:8080/",
     "height": 170
    },
    "colab_type": "code",
    "id": "O8kK4yBT_UhD",
    "outputId": "0fbe6eea-240d-4c17-a50b-bcf3f6a45556"
   },
   "outputs": [
    {
     "name": "stdout",
     "output_type": "stream",
     "text": [
      "MAP: 0.2608946941418466\n",
      "MAP: 0.261358397435433\n",
      "MAP: 0.2621237579572338\n",
      "MAP: 0.26284582081969454\n",
      "MAP: 0.2637742731713137\n",
      "MAP: 0.26469802686432364\n",
      "MAP: 0.2656134511105819\n",
      "MAP: 0.2664990444450756\n",
      "MAP: 0.267300725124484\n"
     ]
    }
   ],
   "source": [
    "# Evaluate top 30 search results for cranfield dataset\n",
    "def BMvisualizations(p, lst):\n",
    "  ranker = BM25(b=p)\n",
    "  num_results = 30\n",
    "\n",
    "  precision_list = []\n",
    "  with open('cranfield/cranfield-queries.txt') as query_file:\n",
    "      for query_num, line in enumerate(query_file):\n",
    "          query = metapy.index.Document()\n",
    "          query.content(line.strip())\n",
    "          results = ranker.score(inv_idx, query, num_results)                            \n",
    "          avg_p = ev.avg_p(results, query_num + 1, num_results)\n",
    "          precision_list.append(ev.precision(results,query_num+1,num_results))\n",
    "          \n",
    "  # Print Ranking Performance\n",
    "  print (\"MAP:\", ev.map())\n",
    "  lst.append(ev.map())\n",
    "#   print (\"Precison@30\",sum(precision_list) / len(precision_list))\n",
    "  return\n",
    "\n",
    "# loop through list of parameters in Pivoted function\n",
    "bm_map_results = [] # for each of the s values in range_lst\n",
    "for elem in range_lst:\n",
    "  BMvisualizations(elem, bm_map_results)"
   ]
  },
  {
   "cell_type": "markdown",
   "metadata": {
    "colab_type": "text",
    "id": "AoRqux1TmUT0"
   },
   "source": [
    "**Add your answer in the cells below:**\n"
   ]
  },
  {
   "cell_type": "code",
   "execution_count": null,
   "metadata": {
    "colab": {},
    "colab_type": "code",
    "id": "MKMCHBtFXADS"
   },
   "outputs": [],
   "source": [
    "# Evaluate different settings for Pivoted and BM25.\n"
   ]
  },
  {
   "cell_type": "markdown",
   "metadata": {
    "colab_type": "text",
    "id": "gd7umO_DmdmQ"
   },
   "source": [
    "Please draw plots to report the results of parameter tuning for Pivoted and BM25."
   ]
  },
  {
   "cell_type": "code",
   "execution_count": null,
   "metadata": {
    "colab": {},
    "colab_type": "code",
    "id": "4bHM-71XNKxH"
   },
   "outputs": [],
   "source": [
    "# !pip install seaborn==0.9.0\n",
    "import seaborn as sns; sns.set()\n",
    "import matplotlib.pyplot as plt\n"
   ]
  },
  {
   "cell_type": "code",
   "execution_count": 26,
   "metadata": {
    "colab": {
     "base_uri": "https://localhost:8080/",
     "height": 34
    },
    "colab_type": "code",
    "id": "JmX5Z8GeQk2z",
    "outputId": "358f55cb-e628-49d9-f0e0-192e24426201"
   },
   "outputs": [
    {
     "name": "stdout",
     "output_type": "stream",
     "text": [
      "0.9.0\n"
     ]
    }
   ],
   "source": [
    "print (sns.__version__)"
   ]
  },
  {
   "cell_type": "code",
   "execution_count": 27,
   "metadata": {
    "colab": {
     "base_uri": "https://localhost:8080/",
     "height": 291
    },
    "colab_type": "code",
    "id": "KCPJFWxoAeYQ",
    "outputId": "e2a57f09-0314-46c7-817e-6443b55bded6"
   },
   "outputs": [
    {
     "data": {
      "text/plain": [
       "<matplotlib.axes._subplots.AxesSubplot at 0x7f7f185c9a58>"
      ]
     },
     "execution_count": 27,
     "metadata": {
      "tags": []
     },
     "output_type": "execute_result"
    },
    {
     "data": {
      "image/png": "[encoded data removed]",
      "text/plain": [
       "<matplotlib.figure.Figure at 0x7f7f3cdb69b0>"
      ]
     },
     "metadata": {
      "tags": []
     },
     "output_type": "display_data"
    }
   ],
   "source": [
    "# Plot everything useing seaborn\n",
    "# Plot Pivoted results, x-axis=parameters, y-axis=MAP\n",
    "\n",
    "ax = sns.lineplot(x=range_lst, y=map_results)\n",
    "ax\n",
    "# range_lst\n",
    "# map_results"
   ]
  },
  {
   "cell_type": "code",
   "execution_count": 30,
   "metadata": {
    "colab": {
     "base_uri": "https://localhost:8080/",
     "height": 291
    },
    "colab_type": "code",
    "id": "W7Ne_O5nmkRq",
    "outputId": "31b81cb3-44b9-4a11-c03d-07403b0761d0"
   },
   "outputs": [
    {
     "data": {
      "text/plain": [
       "<matplotlib.axes._subplots.AxesSubplot at 0x7f7f183ba898>"
      ]
     },
     "execution_count": 30,
     "metadata": {
      "tags": []
     },
     "output_type": "execute_result"
    },
    {
     "data": {
      "image/png": "[encoded data removed]",
      "text/plain": [
       "<matplotlib.figure.Figure at 0x7f7f415d0d68>"
      ]
     },
     "metadata": {
      "tags": []
     },
     "output_type": "display_data"
    }
   ],
   "source": [
    "# Plot everything useing seaborn\n",
    "# Plot BM25 results, x-axis=parameters, y-axis=MAP\n",
    "ax = sns.lineplot(x=range_lst, y=bm_map_results)\n",
    "ax\n",
    "\n",
    "# range_lst\n",
    "# bm_map_results"
   ]
  },
  {
   "cell_type": "markdown",
   "metadata": {
    "colab_type": "text",
    "id": "_l_y9CiuTbKt"
   },
   "source": [
    "#**Findings**\n",
    "\n",
    "The best performance for the Pivoted function was where the parameter was 0.4, giving a value of 0.2748. \n",
    "\n",
    "The best performance for the BM25 function was at parameter value 0.9, giving a MAP value of 0.267."
   ]
  },
  {
   "cell_type": "markdown",
   "metadata": {
    "colab_type": "text",
    "id": "D3eCOuatYSa8"
   },
   "source": [
    "# Testing Search Results for a Single Query"
   ]
  },
  {
   "cell_type": "code",
   "execution_count": null,
   "metadata": {
    "colab": {},
    "colab_type": "code",
    "id": "pY8niuLdYZs2"
   },
   "outputs": [],
   "source": [
    "query = metapy.index.Document()\n",
    "query.content(\"fluid\")\n",
    "top_docs = ranker.score(inv_idx, query, num_results=5)"
   ]
  },
  {
   "cell_type": "code",
   "execution_count": 33,
   "metadata": {
    "colab": {
     "base_uri": "https://localhost:8080/",
     "height": 207
    },
    "colab_type": "code",
    "id": "YQpQX0bQYdIh",
    "outputId": "3d9c7eaa-fe36-4d8d-89a8-059742a9cd85"
   },
   "outputs": [
    {
     "name": "stdout",
     "output_type": "stream",
     "text": [
      "1. energy equation approximations in fluid mechanics . discussion of several forms of the energy equation and of their use for the study of the flow of nearly incompressible fluids ....\n",
      "\n",
      "2. simple shear flow past a flat plate in a compressible viscous fluid . by transformation of variables, the problem of a simple shear flow of a compressible fluid over a flat plate is reduced to the corresponding problem for an incompressible fluid .  the prandtl number of the compressible fluid is assumed to be unity and its viscosity to be a linear function of temperature ....\n",
      "\n",
      "3. laminar jet mixing of two compressible fluids with heat release . the laminar jet mixing problems with heat release have been formulated . a general discussion of the solution of these problems is also given . the important parameters of these problems are brought out .  some specific cases of the jet mixing problem, such as jet mixing of one compressible fluid, isothermal jet mixing of two compressible fluids, and isovel jet mixing of two compressible fluids with heat release, are discussed in detail....\n",
      "\n",
      "4. studies on two dimensional flows of compressible fluid. it is well-known that when the flow is everywhere subsonic in a field of flow, the nature of the two-dimensional isentropic flow of a compressible perfect fluid differs only slightly from that of the corresponding flow of an incompressible perfect fluid .  thus, in such a case, we can calculate the field of flow by any of the well-known methods of approximation .  on the other hand, if the flow is supersonic throughout the field, we can determine the flow pattern by the method of characteristics ....\n",
      "\n",
      "5. incompressible wedge flows of an electrically conducting viscous fluid in the presence of a magnetic field . the purpose of this note is to discuss the two-dimensional flow of an electrically conducting viscous fluid past a wedge in the presence of a magnetic field .  the governing differential equations and boundary conditions are given and analyzed ....\n",
      "\n"
     ]
    }
   ],
   "source": [
    "for num, (d_id, _) in enumerate(top_docs):\n",
    "    content = inv_idx.metadata(d_id).get('content')\n",
    "    print(\"{}. {}...\\n\".format(num + 1, content))"
   ]
  },
  {
   "cell_type": "markdown",
   "metadata": {
    "colab_type": "text",
    "id": "KDqQ0j-oignb"
   },
   "source": [
    "**Please submit your code for Pivoted and BM25 class to canvas. We need your code to verify your results.**"
   ]
  },
  {
   "cell_type": "code",
   "execution_count": null,
   "metadata": {
    "colab": {},
    "colab_type": "code",
    "id": "nZT76HDoh0sM"
   },
   "outputs": [],
   "source": []
  }
 ],
 "metadata": {
  "colab": {
   "collapsed_sections": [],
   "name": "Virtual_IR_Lab_AS2_1.ipynb",
   "provenance": [],
   "version": "0.3.2"
  },
  "kernelspec": {
   "display_name": "Python 3",
   "language": "python",
   "name": "python3"
  },
  "language_info": {
   "codemirror_mode": {
    "name": "ipython",
    "version": 3
   },
   "file_extension": ".py",
   "mimetype": "text/x-python",
   "name": "python",
   "nbconvert_exporter": "python",
   "pygments_lexer": "ipython3",
   "version": "3.6.5"
  }
 },
 "nbformat": 4,
 "nbformat_minor": 2
}
