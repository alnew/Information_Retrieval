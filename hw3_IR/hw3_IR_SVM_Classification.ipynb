{
 "cells": [
  {
   "cell_type": "markdown",
   "metadata": {},
   "source": [
    "## Import Packages and Libraries"
   ]
  },
  {
   "cell_type": "code",
   "execution_count": 1,
   "metadata": {},
   "outputs": [],
   "source": [
    "import pandas as pd\n",
    "from sklearn.metrics import accuracy_score\n",
    "from sklearn.neural_network import MLPClassifier\n",
    "from sklearn.feature_extraction.text import CountVectorizer, TfidfVectorizer, TfidfTransformer\n",
    "from sklearn import svm"
   ]
  },
  {
   "cell_type": "markdown",
   "metadata": {},
   "source": [
    "## Import Data"
   ]
  },
  {
   "cell_type": "code",
   "execution_count": 2,
   "metadata": {},
   "outputs": [],
   "source": [
    "with open('train.tsv', 'r') as f:\n",
    "    train_doc = pd.read_csv(f, delimiter='\\t')\n",
    "    \n",
    "with open('test.tsv', 'r') as f:\n",
    "    test_doc = pd.read_csv(f, delimiter='\\t')"
   ]
  },
  {
   "cell_type": "code",
   "execution_count": 3,
   "metadata": {
    "scrolled": true
   },
   "outputs": [
    {
     "data": {
      "text/html": [
       "<div>\n",
       "<style scoped>\n",
       "    .dataframe tbody tr th:only-of-type {\n",
       "        vertical-align: middle;\n",
       "    }\n",
       "\n",
       "    .dataframe tbody tr th {\n",
       "        vertical-align: top;\n",
       "    }\n",
       "\n",
       "    .dataframe thead th {\n",
       "        text-align: right;\n",
       "    }\n",
       "</style>\n",
       "<table border=\"1\" class=\"dataframe\">\n",
       "  <thead>\n",
       "    <tr style=\"text-align: right;\">\n",
       "      <th></th>\n",
       "      <th>label</th>\n",
       "      <th>comment</th>\n",
       "      <th>parent_comment</th>\n",
       "    </tr>\n",
       "  </thead>\n",
       "  <tbody>\n",
       "    <tr>\n",
       "      <th>0</th>\n",
       "      <td>0</td>\n",
       "      <td>This guy, there's no way he isn't trolling, ri...</td>\n",
       "      <td>Who?</td>\n",
       "    </tr>\n",
       "  </tbody>\n",
       "</table>\n",
       "</div>"
      ],
      "text/plain": [
       "   label                                            comment parent_comment\n",
       "0      0  This guy, there's no way he isn't trolling, ri...           Who?"
      ]
     },
     "execution_count": 3,
     "metadata": {},
     "output_type": "execute_result"
    }
   ],
   "source": [
    "train_doc.head(1)"
   ]
  },
  {
   "cell_type": "code",
   "execution_count": 4,
   "metadata": {
    "scrolled": true
   },
   "outputs": [
    {
     "data": {
      "text/plain": [
       "id                                                           16661\n",
       "comment                                               asdfasdfasdf\n",
       "parent_comment    And thus an universal sarcasm indicator is born.\n",
       "Name: 16661, dtype: object"
      ]
     },
     "execution_count": 4,
     "metadata": {},
     "output_type": "execute_result"
    }
   ],
   "source": [
    "test_doc.iloc[16661]"
   ]
  },
  {
   "cell_type": "markdown",
   "metadata": {},
   "source": [
    "## FINAL: Data to feed into TFIDF - Creates list of words for tfidf"
   ]
  },
  {
   "cell_type": "code",
   "execution_count": 5,
   "metadata": {},
   "outputs": [],
   "source": [
    "#--Create list of comments and list of labels for training data--\n",
    "X_train = list(train_doc['comment']) #--complete comment-only dataset for training data\n",
    "X_train_parent = list(train_doc['parent_comment']) #--complete parent comment-only dataset for training data\n",
    "\n",
    "y_train = list(train_doc['label']) #--labels for complete training dataset\n",
    "X_test = list(test_doc['comment']) #--complete dataset for test data"
   ]
  },
  {
   "cell_type": "code",
   "execution_count": 6,
   "metadata": {},
   "outputs": [
    {
     "data": {
      "text/plain": [
       "52974"
      ]
     },
     "execution_count": 6,
     "metadata": {},
     "output_type": "execute_result"
    }
   ],
   "source": [
    "len(X_train)"
   ]
  },
  {
   "cell_type": "code",
   "execution_count": 6,
   "metadata": {},
   "outputs": [],
   "source": [
    "X_train1000 = X_train[:500]\n",
    "y_train1000 = y_train[:500]\n"
   ]
  },
  {
   "cell_type": "code",
   "execution_count": 203,
   "metadata": {},
   "outputs": [
    {
     "data": {
      "text/plain": [
       "52974"
      ]
     },
     "execution_count": 203,
     "metadata": {},
     "output_type": "execute_result"
    }
   ],
   "source": [
    "len(X_train_parent)"
   ]
  },
  {
   "cell_type": "code",
   "execution_count": 84,
   "metadata": {},
   "outputs": [
    {
     "data": {
      "text/plain": [
       "17719"
      ]
     },
     "execution_count": 84,
     "metadata": {},
     "output_type": "execute_result"
    }
   ],
   "source": [
    "len(X_test)"
   ]
  },
  {
   "cell_type": "markdown",
   "metadata": {},
   "source": [
    "## FINAL: Code to create Matrices for Models"
   ]
  },
  {
   "cell_type": "code",
   "execution_count": 85,
   "metadata": {},
   "outputs": [
    {
     "data": {
      "text/plain": [
       "(52974, 35181)"
      ]
     },
     "execution_count": 85,
     "metadata": {},
     "output_type": "execute_result"
    }
   ],
   "source": [
    "#--Tokenizing--CountVectorizer: tokenizes, filters stopwords, creates a dictionary of features, and transforms documents to feature vectors \n",
    "count_vect = CountVectorizer()\n",
    "X_train_counts = count_vect.fit_transform(X_train)\n",
    "X_train_counts.shape"
   ]
  },
  {
   "cell_type": "code",
   "execution_count": 86,
   "metadata": {},
   "outputs": [
    {
     "data": {
      "text/plain": [
       "(52974, 35181)"
      ]
     },
     "execution_count": 86,
     "metadata": {},
     "output_type": "execute_result"
    }
   ],
   "source": [
    "tf_transformer = TfidfTransformer(use_idf=False).fit(X_train_counts)\n",
    "X_train_tf = tf_transformer.transform(X_train_counts)\n",
    "X_train_tf.shape"
   ]
  },
  {
   "cell_type": "code",
   "execution_count": 87,
   "metadata": {},
   "outputs": [
    {
     "data": {
      "text/plain": [
       "(52974, 35181)"
      ]
     },
     "execution_count": 87,
     "metadata": {},
     "output_type": "execute_result"
    }
   ],
   "source": [
    "tfidf_transformer = TfidfTransformer()\n",
    "X_train_tfidf = tfidf_transformer.fit_transform(X_train_counts)\n",
    "X_train_tfidf.shape"
   ]
  },
  {
   "cell_type": "markdown",
   "metadata": {},
   "source": [
    "## 1. Create Naive Bayes Classifier"
   ]
  },
  {
   "cell_type": "code",
   "execution_count": 88,
   "metadata": {},
   "outputs": [],
   "source": [
    "#--Train Naive Bayes Classifier--\n",
    "#--Source: http://scikit-learn.org/stable/tutorial/text_analytics/working_with_text_data.html\n",
    "\n",
    "from sklearn.naive_bayes import MultinomialNB\n",
    "clf = MultinomialNB().fit(X_train_tfidf, y_train)"
   ]
  },
  {
   "cell_type": "code",
   "execution_count": 89,
   "metadata": {},
   "outputs": [],
   "source": [
    "docs_new = X_test\n",
    "X_new_counts = count_vect.transform(docs_new)\n",
    "X_new_tfidf = tfidf_transformer.transform(X_new_counts)\n",
    "\n",
    "predicted = clf.predict(X_new_tfidf)"
   ]
  },
  {
   "cell_type": "code",
   "execution_count": 129,
   "metadata": {},
   "outputs": [],
   "source": [
    "#--Create data for dataframe--\n",
    "predicted_lst = predicted.tolist()\n",
    "id_nums = list(range(0,len(predicted_lst)))"
   ]
  },
  {
   "cell_type": "markdown",
   "metadata": {},
   "source": [
    "#### Create Submission for Kaggle"
   ]
  },
  {
   "cell_type": "code",
   "execution_count": 140,
   "metadata": {},
   "outputs": [],
   "source": [
    "#--Create dataframe to submit for Naive Bayes predicted values--\n",
    "col_names = ['ID', 'Category']\n",
    "naiveb_df = pd.DataFrame(columns = col_names)\n",
    "naiveb_df.ID = id_nums\n",
    "naiveb_df['Category'] = predicted_lst\n",
    "\n",
    "\n",
    "#--Create .CSV for Kaggle\n",
    "naiveb_df.to_csv('nb_submission1', sep=',', index=False) #--gives a value of .648"
   ]
  },
  {
   "cell_type": "code",
   "execution_count": null,
   "metadata": {},
   "outputs": [],
   "source": []
  },
  {
   "cell_type": "markdown",
   "metadata": {},
   "source": [
    "## Naive Bayes Classifier "
   ]
  },
  {
   "cell_type": "code",
   "execution_count": 11,
   "metadata": {},
   "outputs": [
    {
     "data": {
      "text/html": [
       "<div>\n",
       "<style scoped>\n",
       "    .dataframe tbody tr th:only-of-type {\n",
       "        vertical-align: middle;\n",
       "    }\n",
       "\n",
       "    .dataframe tbody tr th {\n",
       "        vertical-align: top;\n",
       "    }\n",
       "\n",
       "    .dataframe thead th {\n",
       "        text-align: right;\n",
       "    }\n",
       "</style>\n",
       "<table border=\"1\" class=\"dataframe\">\n",
       "  <thead>\n",
       "    <tr style=\"text-align: right;\">\n",
       "      <th></th>\n",
       "      <th>label</th>\n",
       "      <th>comment</th>\n",
       "      <th>parent_comment</th>\n",
       "      <th>comments_combined</th>\n",
       "    </tr>\n",
       "  </thead>\n",
       "  <tbody>\n",
       "    <tr>\n",
       "      <th>0</th>\n",
       "      <td>0</td>\n",
       "      <td>This guy, there's no way he isn't trolling, ri...</td>\n",
       "      <td>Who?</td>\n",
       "      <td>This guy, there's no way he isn't trolling, ri...</td>\n",
       "    </tr>\n",
       "    <tr>\n",
       "      <th>1</th>\n",
       "      <td>0</td>\n",
       "      <td>Funny how the media chose to never bring it up...</td>\n",
       "      <td>Umm yes! It was a huge scandal, do you not mem...</td>\n",
       "      <td>Funny how the media chose to never bring it up...</td>\n",
       "    </tr>\n",
       "    <tr>\n",
       "      <th>2</th>\n",
       "      <td>0</td>\n",
       "      <td>If you're buying something at only 20% off, yo...</td>\n",
       "      <td>I think you could make a bot that randomly pos...</td>\n",
       "      <td>If you're buying something at only 20% off, yo...</td>\n",
       "    </tr>\n",
       "    <tr>\n",
       "      <th>3</th>\n",
       "      <td>0</td>\n",
       "      <td>Oh come on</td>\n",
       "      <td>is there still a difference nowadays?</td>\n",
       "      <td>Oh come on is there still a difference nowadays?</td>\n",
       "    </tr>\n",
       "    <tr>\n",
       "      <th>4</th>\n",
       "      <td>0</td>\n",
       "      <td>Bots don't send their best people.</td>\n",
       "      <td>Stop following me shillbot and upvote my post!...</td>\n",
       "      <td>Bots don't send their best people. Stop follow...</td>\n",
       "    </tr>\n",
       "  </tbody>\n",
       "</table>\n",
       "</div>"
      ],
      "text/plain": [
       "   label                                            comment  \\\n",
       "0      0  This guy, there's no way he isn't trolling, ri...   \n",
       "1      0  Funny how the media chose to never bring it up...   \n",
       "2      0  If you're buying something at only 20% off, yo...   \n",
       "3      0                                         Oh come on   \n",
       "4      0                 Bots don't send their best people.   \n",
       "\n",
       "                                      parent_comment  \\\n",
       "0                                               Who?   \n",
       "1  Umm yes! It was a huge scandal, do you not mem...   \n",
       "2  I think you could make a bot that randomly pos...   \n",
       "3              is there still a difference nowadays?   \n",
       "4  Stop following me shillbot and upvote my post!...   \n",
       "\n",
       "                                   comments_combined  \n",
       "0  This guy, there's no way he isn't trolling, ri...  \n",
       "1  Funny how the media chose to never bring it up...  \n",
       "2  If you're buying something at only 20% off, yo...  \n",
       "3   Oh come on is there still a difference nowadays?  \n",
       "4  Bots don't send their best people. Stop follow...  "
      ]
     },
     "execution_count": 11,
     "metadata": {},
     "output_type": "execute_result"
    }
   ],
   "source": [
    "train_doc['comments_combined'] = train_doc.comment.str.cat(train_doc.parent_comment, sep=' ')\n",
    "train_doc.head()\n",
    "# df['Period'] = df.Year.str.cat(df.Quarter)\n",
    "\n",
    "# X_train_2D = train_doc[['comment', 'parent_comment']]"
   ]
  },
  {
   "cell_type": "code",
   "execution_count": 12,
   "metadata": {},
   "outputs": [],
   "source": [
    "X_train_2D = list(train_doc['comments_combined'])"
   ]
  },
  {
   "cell_type": "markdown",
   "metadata": {},
   "source": [
    "## Code to create Matrices for Models Part2"
   ]
  },
  {
   "cell_type": "code",
   "execution_count": 194,
   "metadata": {},
   "outputs": [],
   "source": [
    "#--Tokenizing--CountVectorizer: tokenizes, filters stopwords, creates a dictionary of features, and transforms documents to feature vectors \n",
    "count_vect2 = CountVectorizer()\n",
    "X_train_counts2 = count_vect2.fit_transform(X_train)\n",
    "X_train_counts2.shape\n",
    "\n",
    "tf_transformer2 = TfidfTransformer(use_idf=False).fit(X_train_counts2)\n",
    "X_train_tf2 = tf_transformer2.transform(X_train_counts2)\n",
    "X_train_tf2.shape\n",
    "\n",
    "tfidf_transformer2 = TfidfTransformer()\n",
    "X_train_tfidf2 = tfidf_transformer2.fit_transform(X_train_counts2)\n",
    "X_train_tfidf2.shape\n",
    "\n",
    "#--Train Naive Bayes Classifier--\n",
    "#--Source: http://scikit-learn.org/stable/tutorial/text_analytics/working_with_text_data.html"
   ]
  },
  {
   "cell_type": "markdown",
   "metadata": {},
   "source": [
    "## 2. FINAL: Bernoulli NB -- without changing parameters: gives 0.66192 accuracy"
   ]
  },
  {
   "cell_type": "code",
   "execution_count": 197,
   "metadata": {},
   "outputs": [],
   "source": [
    "from sklearn.naive_bayes import BernoulliNB\n",
    "#--Source: http://scikit-learn.org/stable/modules/generated/sklearn.naive_bayes.BernoulliNB.html\n",
    "\n",
    "clf2 = BernoulliNB().fit(X_train_tfidf2, y_train)  #--This give 0.66192 tied to 'nb_submission3'\n",
    "\n",
    "docs_new2 = X_test\n",
    "X_new_counts2 = count_vect.transform(docs_new2)\n",
    "X_new_tfidf2 = tfidf_transformer.transform(X_new_counts2)\n",
    "\n",
    "predicted2 = clf2.predict(X_new_tfidf2)\n",
    "\n",
    "#--Create data for dataframe--\n",
    "predicted_lst2 = predicted2.tolist()\n",
    "id_nums2 = list(range(0,len(predicted_lst2)))\n",
    "\n",
    "#--Create dataframe to submit for Naive Bayes predicted values--\n",
    "col_names = ['ID', 'Category']\n",
    "naiveb_df2 = pd.DataFrame(columns = col_names)\n",
    "naiveb_df2.ID = id_nums\n",
    "naiveb_df2['Category'] = predicted_lst2\n",
    "\n",
    "\n",
    "#--Create .CSV for Kaggle\n",
    "naiveb_df2.to_csv('nb_submission3', sep=',', index=False) #--gives accuracy value of 0.66192"
   ]
  },
  {
   "cell_type": "markdown",
   "metadata": {},
   "source": [
    "## 3. FINAL: SVC Classifier: gives 0.67118 accuracy"
   ]
  },
  {
   "cell_type": "code",
   "execution_count": 199,
   "metadata": {},
   "outputs": [],
   "source": [
    "from sklearn import svm\n",
    "\n",
    "clf3 = svm.SVC(kernel='linear').fit(X_train_tfidf2, y_train)\n",
    "\n",
    "docs_new2 = X_test\n",
    "X_new_counts2 = count_vect.transform(docs_new2)\n",
    "X_new_tfidf2 = tfidf_transformer.transform(X_new_counts2)\n",
    "\n",
    "predicted2 = clf3.predict(X_new_tfidf2)\n",
    "\n",
    "#--Create data for dataframe--\n",
    "predicted_lst2 = predicted2.tolist()\n",
    "id_nums2 = list(range(0,len(predicted_lst2)))\n",
    "\n",
    "#--Create dataframe to submit for Naive Bayes predicted values--\n",
    "col_names = ['ID', 'Category']\n",
    "naiveb_df2 = pd.DataFrame(columns = col_names)\n",
    "naiveb_df2.ID = id_nums\n",
    "naiveb_df2['Category'] = predicted_lst2\n",
    "\n",
    "\n",
    "#--Create .CSV for Kaggle\n",
    "naiveb_df2.to_csv('svc_submission4', sep=',', index=False) #--gives a value of 0.67118"
   ]
  },
  {
   "cell_type": "markdown",
   "metadata": {},
   "source": [
    "## 4. Linear SVC -- accuracy 0.65244"
   ]
  },
  {
   "cell_type": "code",
   "execution_count": 212,
   "metadata": {},
   "outputs": [],
   "source": [
    "from sklearn.svm import LinearSVC\n",
    "\n",
    "#--Tokenize, remove stopwords --> creates a sparse matrix\n",
    "#--Tokenizing--CountVectorizer: tokenizes, filters stopwords, creates a dictionary of features, and transforms documents to feature vectors \n",
    "count_vect2 = CountVectorizer()\n",
    "X_train_counts2 = count_vect2.fit_transform(X_train)\n",
    "X_train_counts2.shape\n",
    "\n",
    "tf_transformer2 = TfidfTransformer(use_idf=False).fit(X_train_counts2)\n",
    "X_train_tf2 = tf_transformer2.transform(X_train_counts2)\n",
    "X_train_tf2.shape\n",
    "\n",
    "tfidf_transformer2 = TfidfTransformer()\n",
    "X_train_tfidf2 = tfidf_transformer2.fit_transform(X_train_counts2)\n",
    "X_train_tfidf2.shape\n",
    "\n",
    "\n",
    "clf4 = LinearSVC().fit(X_train_tfidf2, y_train)\n",
    "\n",
    "docs_new2 = X_test\n",
    "X_new_counts2 = count_vect.transform(docs_new2)\n",
    "X_new_tfidf2 = tfidf_transformer.transform(X_new_counts2)\n",
    "\n",
    "predicted2 = clf4.predict(X_new_tfidf2)\n",
    "\n",
    "#--Create data for dataframe--\n",
    "predicted_lst2 = predicted2.tolist()\n",
    "id_nums2 = list(range(0,len(predicted_lst2)))\n",
    "\n",
    "#--Create dataframe to submit for Naive Bayes predicted values--\n",
    "col_names = ['ID', 'Category']\n",
    "naiveb_df2 = pd.DataFrame(columns = col_names)\n",
    "naiveb_df2.ID = id_nums\n",
    "naiveb_df2['Category'] = predicted_lst2\n",
    "\n",
    "\n",
    "#--Create .CSV for Kaggle\n",
    "naiveb_df2.to_csv('lin_svc_submission6', sep=',', index=False) #--gives a value of 0.65244"
   ]
  },
  {
   "cell_type": "markdown",
   "metadata": {},
   "source": [
    "## 5. Random Forest Classifier - accuracy 0.64025"
   ]
  },
  {
   "cell_type": "code",
   "execution_count": 210,
   "metadata": {},
   "outputs": [
    {
     "name": "stderr",
     "output_type": "stream",
     "text": [
      "/anaconda3/lib/python3.6/site-packages/sklearn/ensemble/weight_boosting.py:29: DeprecationWarning: numpy.core.umath_tests is an internal NumPy module and should not be imported. It will be removed in a future NumPy release.\n",
      "  from numpy.core.umath_tests import inner1d\n"
     ]
    }
   ],
   "source": [
    "from sklearn.ensemble import RandomForestClassifier\n",
    "\n",
    "#--Tokenize, remove stopwords --> creates a sparse matrix\n",
    "#--Tokenizing--CountVectorizer: tokenizes, filters stopwords, creates a dictionary of features, and transforms documents to feature vectors \n",
    "count_vect2 = CountVectorizer() #--CountVectorizer converts a class of text documents to a matrix of token counts\n",
    "X_train_counts2 = count_vect2.fit_transform(X_train)\n",
    "X_train_counts2.shape\n",
    "\n",
    "tf_transformer2 = TfidfTransformer(use_idf=False).fit(X_train_counts2)\n",
    "X_train_tf2 = tf_transformer2.transform(X_train_counts2)\n",
    "X_train_tf2.shape\n",
    "\n",
    "tfidf_transformer2 = TfidfTransformer() #--TfidfTransformer transforms the count matrix to term frequency or inverse document frequency\n",
    "X_train_tfidf2 = tfidf_transformer2.fit_transform(X_train_counts2)\n",
    "X_train_tfidf2.shape\n",
    "\n",
    "\n",
    "clf4 = RandomForestClassifier().fit(X_train_tfidf2, y_train)\n",
    "\n",
    "docs_new2 = X_test\n",
    "X_new_counts2 = count_vect.transform(docs_new2)\n",
    "X_new_tfidf2 = tfidf_transformer.transform(X_new_counts2)\n",
    "\n",
    "predicted2 = clf4.predict(X_new_tfidf2)\n",
    "\n",
    "#--Create data for dataframe--\n",
    "predicted_lst2 = predicted2.tolist()\n",
    "id_nums2 = list(range(0,len(predicted_lst2)))\n",
    "\n",
    "#--Create dataframe to submit for Naive Bayes predicted values--\n",
    "col_names = ['ID', 'Category']\n",
    "naiveb_df2 = pd.DataFrame(columns = col_names)\n",
    "naiveb_df2.ID = id_nums\n",
    "naiveb_df2['Category'] = predicted_lst2\n",
    "\n",
    "\n",
    "#--Create .CSV for Kaggle\n",
    "naiveb_df2.to_csv('rf_submission5', sep=',', index=False) #--gives a value of 0.6402"
   ]
  },
  {
   "cell_type": "code",
   "execution_count": 243,
   "metadata": {},
   "outputs": [],
   "source": [
    "#--Source: https://www.analyticsvidhya.com/blog/2018/04/a-comprehensive-guide-to-understand-and-implement-text-classification-in-python/\n",
    "from sklearn import model_selection, preprocessing, linear_model, naive_bayes, metrics, svm\n",
    "from sklearn.feature_extraction.text import TfidfVectorizer, CountVectorizer\n",
    "from sklearn import decomposition, ensemble\n",
    "\n",
    "import pandas, xgboost, numpy, textblob, string\n",
    "from keras.preprocessing import text, sequence\n",
    "from keras import layers, models, optimizers"
   ]
  },
  {
   "cell_type": "code",
   "execution_count": null,
   "metadata": {},
   "outputs": [],
   "source": []
  },
  {
   "cell_type": "code",
   "execution_count": 244,
   "metadata": {},
   "outputs": [],
   "source": [
    "#--Split training data into training and validation: \n",
    "from sklearn.model_selection import train_test_split\n",
    "\n",
    "#--run testing on valid_xdata\n",
    "train_x, valid_x, train_y, valid_y = train_test_split(X_train, y_train)"
   ]
  },
  {
   "cell_type": "code",
   "execution_count": 245,
   "metadata": {},
   "outputs": [
    {
     "data": {
      "text/plain": [
       "13244"
      ]
     },
     "execution_count": 245,
     "metadata": {},
     "output_type": "execute_result"
    }
   ],
   "source": [
    "len(valid_xdata)"
   ]
  },
  {
   "cell_type": "code",
   "execution_count": 246,
   "metadata": {},
   "outputs": [
    {
     "data": {
      "text/plain": [
       "52974"
      ]
     },
     "execution_count": 246,
     "metadata": {},
     "output_type": "execute_result"
    }
   ],
   "source": [
    "len(X_train)"
   ]
  },
  {
   "cell_type": "markdown",
   "metadata": {},
   "source": [
    "## 6. FINAL: SVC Model that works best -- Features=trigrams -- gives 0.69037 accuracy"
   ]
  },
  {
   "cell_type": "code",
   "execution_count": 3,
   "metadata": {},
   "outputs": [],
   "source": [
    "#--Source: http://scikit-learn.org/stable/tutorial/text_analytics/working_with_text_data.html\n",
    "with open('train.tsv', 'r') as f:\n",
    "    train_doc = pd.read_csv(f, delimiter='\\t')\n",
    "    \n",
    "with open('test.tsv', 'r') as f:\n",
    "    test_doc = pd.read_csv(f, delimiter='\\t')\n",
    "    \n",
    "#--Create list of comments and list of labels for training data--\n",
    "X_train = list(train_doc['comment']) #--complete comment-only dataset for training data\n",
    "X_train_parent = list(train_doc['parent_comment']) #--complete parent comment-only dataset for training data\n",
    "\n",
    "y_train = list(train_doc['label']) #--labels for complete training dataset\n",
    "X_test = list(test_doc['comment']) #--complete dataset for test data "
   ]
  },
  {
   "cell_type": "code",
   "execution_count": 4,
   "metadata": {},
   "outputs": [],
   "source": [
    "from sklearn import svm\n",
    "count_vec = CountVectorizer(ngram_range=(1, 3))\n",
    "X_train_count = count_vec.fit_transform(X_train)"
   ]
  },
  {
   "cell_type": "code",
   "execution_count": 6,
   "metadata": {},
   "outputs": [
    {
     "name": "stdout",
     "output_type": "stream",
     "text": [
      "--Transformer--\n",
      "--Transformer--\n"
     ]
    }
   ],
   "source": [
    "print('--Transformer--')\n",
    "tfidf_transform = TfidfTransformer(use_idf=False)\n",
    "print('--Transformer--')\n",
    "X_train_tfidf = tfidf_transform.fit_transform(X_train_count)"
   ]
  },
  {
   "cell_type": "code",
   "execution_count": 7,
   "metadata": {},
   "outputs": [],
   "source": [
    "#--create Classifier--\n",
    "clf = svm.SVC(kernel='linear').fit(X_train_tfidf, y_train)"
   ]
  },
  {
   "cell_type": "code",
   "execution_count": 8,
   "metadata": {},
   "outputs": [],
   "source": [
    "#--Test--\n",
    "X_test_count = count_vec.transform(X_test)"
   ]
  },
  {
   "cell_type": "code",
   "execution_count": 11,
   "metadata": {},
   "outputs": [],
   "source": [
    "X_test_tfidf = tfidf_transform.transform(X_test_count)"
   ]
  },
  {
   "cell_type": "code",
   "execution_count": 12,
   "metadata": {},
   "outputs": [],
   "source": [
    "pred = clf.predict(X_test_tfidf)"
   ]
  },
  {
   "cell_type": "code",
   "execution_count": 13,
   "metadata": {},
   "outputs": [],
   "source": [
    "#--Create data for dataframe--\n",
    "pred_lst = pred.tolist()\n",
    "id_nums = list(range(0,len(pred_lst)))\n",
    "\n",
    "col_names = ['ID', 'Category']\n",
    "df = pd.DataFrame(columns = col_names)\n",
    "df.ID = id_nums\n",
    "df['Category'] = pred_lst\n",
    "\n",
    "\n",
    "#--Create .CSV for Kaggle\n",
    "df.to_csv('svc_submission8', sep=',', index=False) #--gives a value of 0.69037"
   ]
  },
  {
   "cell_type": "markdown",
   "metadata": {},
   "source": [
    "### Change SVC Parameters"
   ]
  },
  {
   "cell_type": "code",
   "execution_count": null,
   "metadata": {},
   "outputs": [],
   "source": [
    "#--POS Tagging\n",
    "##-- e.g. num times an adj was used\n",
    "#--looking at diff between comment and parent comment (pos/neg)"
   ]
  },
  {
   "cell_type": "markdown",
   "metadata": {},
   "source": [
    "## 7. Create Pipeline "
   ]
  },
  {
   "cell_type": "code",
   "execution_count": null,
   "metadata": {},
   "outputs": [],
   "source": [
    "from sklearn.pipeline import Pipeline\n",
    "from sklearn.svm import SVC\n",
    "from sklearn.model_selection import GridSearchCV\n",
    "\n",
    "text_clf = Pipeline([('vect', CountVectorizer(ngram_range=(1,3))),\n",
    "                    ('tfidf', TfidfTransformer(use_idf=False)),\n",
    "                     ('clf', svm.SVC(kernel='linear', random_state=0, gamma=0.01)),])\n",
    "\n",
    "text_clf = text_clf.fit(X_train, y_train)\n",
    "\n",
    "parameters = {\n",
    "    'clf__C': [0.8, 0.9, 1, 1.5],          \n",
    "             }\n",
    "\n",
    "gs_clf = GridSearchCV(text_clf, parameters, cv=10)\n",
    "gs_clf = gs_clf.fit(X_train, y_train)\n",
    "gs_clf.best_estimator_\n",
    "print('Best params: {}, Best score: {}'.format(gs_clf.best_params_, gs_clf.best_score_))"
   ]
  },
  {
   "cell_type": "code",
   "execution_count": null,
   "metadata": {},
   "outputs": [],
   "source": [
    "predict = gs_clf.predict(X_test)"
   ]
  },
  {
   "cell_type": "code",
   "execution_count": null,
   "metadata": {},
   "outputs": [],
   "source": []
  },
  {
   "cell_type": "code",
   "execution_count": 60,
   "metadata": {},
   "outputs": [
    {
     "name": "stdout",
     "output_type": "stream",
     "text": [
      "Best params: {'clf__penalty': 'l2'}, Best score: 0.6800694680409257\n"
     ]
    }
   ],
   "source": [
    "from sklearn.pipeline import Pipeline\n",
    "from sklearn.svm import LinearSVC\n",
    "import numpy as np\n",
    "\n",
    "text_clf = Pipeline([('vect', CountVectorizer(ngram_range=(1, 3))),\n",
    "                    ('tfidf', TfidfTransformer()),\n",
    "                     ('clf', svm.LinearSVC(dual=False, C=0.28500000000000003)),])\n",
    "\n",
    "text_clf = text_clf.fit(X_train, y_train)\n",
    "\n",
    "from sklearn.model_selection import GridSearchCV\n",
    "parameters = {\n",
    "#             'vect__ngram_range': ((1,2), (1,3)),\n",
    "#               'clf__C': np.arange(.28, .29, 0.0001),\n",
    "#             'clf__C': np.arange(.27, .3, 0.01),\n",
    "            'clf__penalty': ('l1', 'l2'),\n",
    "             }\n",
    "\n",
    "gs_clf = GridSearchCV(text_clf, parameters, cv=10)\n",
    "gs_clf = gs_clf.fit(X_train, y_train)\n",
    "gs_clf.best_estimator_\n",
    "print('Best params: {}, Best score: {}'.format(gs_clf.best_params_, gs_clf.best_score_))\n",
    "\n",
    "#--Best score: 0.67\n",
    "#--Best params: {'clf__C': 0.28500000000000003, 'clf__penalty': 'l2'}, Best score: 0.6733869445388304\n",
    "#--Best params: {'clf__penalty': 'l2'}, Best score: 0.6800694680409257"
   ]
  },
  {
   "cell_type": "code",
   "execution_count": 2,
   "metadata": {},
   "outputs": [],
   "source": [
    "# gs_clf.cv_results_"
   ]
  },
  {
   "cell_type": "code",
   "execution_count": 63,
   "metadata": {},
   "outputs": [
    {
     "name": "stdout",
     "output_type": "stream",
     "text": [
      "Best params: {'clf__C': 0.27, 'clf__penalty': 'l2'}, Best score: 0.6804092573715408\n"
     ]
    }
   ],
   "source": [
    "from sklearn.pipeline import Pipeline\n",
    "from sklearn.svm import LinearSVC\n",
    "import numpy as np\n",
    "\n",
    "text_clf = Pipeline([('vect', CountVectorizer(ngram_range=(1, 3))),\n",
    "                    ('tfidf', TfidfTransformer()),\n",
    "                     ('clf', svm.LinearSVC(dual=False)),])\n",
    "\n",
    "text_clf = text_clf.fit(X_train, y_train)\n",
    "\n",
    "from sklearn.model_selection import GridSearchCV\n",
    "parameters = {\n",
    "#             'vect__ngram_range': ((1,2), (1,3)),\n",
    "#               'clf__C': np.arange(.28, .29, 0.0001),\n",
    "            'clf__C': np.arange(.27, .3, 0.01),\n",
    "            'clf__penalty': ('l1', 'l2'),\n",
    "             }\n",
    "\n",
    "gs_clf = GridSearchCV(text_clf, parameters, cv=10)\n",
    "gs_clf = gs_clf.fit(X_train, y_train)\n",
    "gs_clf.best_estimator_\n",
    "print('Best params: {}, Best score: {}'.format(gs_clf.best_params_, gs_clf.best_score_))\n",
    "\n",
    "#--Best score: 0.67\n",
    "#--Best params: {'clf__C': 0.28500000000000003, 'clf__penalty': 'l2'}, Best score: 0.6733869445388304\n",
    "#--Best params: {'clf__penalty': 'l2'}, Best score: 0.6800694680409257"
   ]
  },
  {
   "cell_type": "markdown",
   "metadata": {},
   "source": [
    "## Grade Analysis"
   ]
  },
  {
   "cell_type": "code",
   "execution_count": 3,
   "metadata": {
    "scrolled": true
   },
   "outputs": [
    {
     "data": {
      "text/plain": [
       "82.11094519492599"
      ]
     },
     "execution_count": 3,
     "metadata": {},
     "output_type": "execute_result"
    }
   ],
   "source": [
    "import math\n",
    "rank = 29\n",
    "grade = 70 + (30 * (2/ math.log2(2 + rank)))\n",
    "grade"
   ]
  },
  {
   "cell_type": "code",
   "execution_count": 32,
   "metadata": {},
   "outputs": [
    {
     "data": {
      "text/plain": [
       "array([0.27555, 0.27565, 0.27575, 0.27585, 0.27595, 0.27605, 0.27615,\n",
       "       0.27625, 0.27635, 0.27645])"
      ]
     },
     "execution_count": 32,
     "metadata": {},
     "output_type": "execute_result"
    }
   ],
   "source": [
    "import numpy as np\n",
    "np.arange(.27555, .2765, 0.0001)"
   ]
  },
  {
   "cell_type": "code",
   "execution_count": 40,
   "metadata": {},
   "outputs": [
    {
     "data": {
      "text/plain": [
       "array([0.27 , 0.271, 0.272, 0.273, 0.274, 0.275, 0.276, 0.277, 0.278,\n",
       "       0.279, 0.28 , 0.281, 0.282, 0.283, 0.284, 0.285, 0.286, 0.287,\n",
       "       0.288, 0.289, 0.29 , 0.291, 0.292, 0.293, 0.294, 0.295, 0.296,\n",
       "       0.297, 0.298, 0.299])"
      ]
     },
     "execution_count": 40,
     "metadata": {},
     "output_type": "execute_result"
    }
   ],
   "source": [
    "np.arange(.27, .3, 0.001)"
   ]
  },
  {
   "cell_type": "markdown",
   "metadata": {},
   "source": [
    "## Create Keras Classifier"
   ]
  },
  {
   "cell_type": "code",
   "execution_count": 155,
   "metadata": {},
   "outputs": [],
   "source": [
    "import keras\n",
    "from keras.preprocessing.text import Tokenizer"
   ]
  },
  {
   "cell_type": "code",
   "execution_count": 201,
   "metadata": {},
   "outputs": [],
   "source": [
    "# num_classes = 2\n",
    "\n",
    "# max_words = 1000\n",
    "# tokenizer = Tokenizer(num_words=max_words)\n",
    "# x_train = tokenizer.sequences_to_matrix(X_train, mode='binary')\n",
    "# # x_test = tokenizer.sequences_to_matrix(X_test, mode='binary')\n"
   ]
  },
  {
   "cell_type": "code",
   "execution_count": 200,
   "metadata": {},
   "outputs": [],
   "source": [
    "# from sklearn.metrics import accuracy_score\n",
    "# accuracy_score(labels_train, predicted)"
   ]
  }
 ],
 "metadata": {
  "kernelspec": {
   "display_name": "Python 3",
   "language": "python",
   "name": "python3"
  },
  "language_info": {
   "codemirror_mode": {
    "name": "ipython",
    "version": 3
   },
   "file_extension": ".py",
   "mimetype": "text/x-python",
   "name": "python",
   "nbconvert_exporter": "python",
   "pygments_lexer": "ipython3",
   "version": "3.6.7"
  }
 },
 "nbformat": 4,
 "nbformat_minor": 4
}
